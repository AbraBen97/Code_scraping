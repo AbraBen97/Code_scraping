{
 "cells": [
  {
   "cell_type": "code",
   "execution_count": 1,
   "metadata": {},
   "outputs": [],
   "source": [
    "import requests\n",
    "import time\n",
    "from bs4 import BeautifulSoup\n",
    "from selenium import webdriver \n",
    "from selenium.webdriver.common.keys import Keys\n",
    "from selenium.webdriver.common.action_chains import ActionChains\n",
    "from selenium.webdriver.common.by import By \n",
    "from selenium.webdriver.common.keys import Keys\n",
    "from selenium.webdriver.chrome.options import Options\n",
    "from selenium import webdriver\n",
    "import pandas as pd\n",
    "from selenium.common.exceptions import ElementClickInterceptedException"
   ]
  },
  {
   "cell_type": "code",
   "execution_count": null,
   "metadata": {},
   "outputs": [],
   "source": []
  },
  {
   "cell_type": "markdown",
   "metadata": {},
   "source": [
    "## Ouverture du driver pour la recuperaion des liens de chaque parfumeurs"
   ]
  },
  {
   "cell_type": "code",
   "execution_count": 2,
   "metadata": {},
   "outputs": [],
   "source": [
    "\n",
    "\n",
    "# Configuration du WebDriver\n",
    "driver = webdriver.Firefox()\n",
    "\n",
    "driver.get(\"https://www.fragrantica.com/noses/\")\n",
    "time.sleep(2) \n",
    "\n",
    "parfumeurs = driver.find_elements(By.XPATH, '//div[contains(@class, \"cell small-12 medium-4\")]//a')\n",
    "liens_parfumeurs = [link.get_attribute('href') for link in parfumeurs]\n",
    "driver.quit()"
   ]
  },
  {
   "cell_type": "code",
   "execution_count": null,
   "metadata": {},
   "outputs": [],
   "source": []
  },
  {
   "cell_type": "markdown",
   "metadata": {},
   "source": [
    "## recuperation des liens des parfumns de  chaque parfumeurs"
   ]
  },
  {
   "cell_type": "code",
   "execution_count": 37,
   "metadata": {},
   "outputs": [],
   "source": [
    "columns = [\n",
    "    'parfumeurs', 'liens']\n",
    "\n",
    "df = pd.DataFrame(columns=columns)"
   ]
  },
  {
   "cell_type": "code",
   "execution_count": 4,
   "metadata": {},
   "outputs": [],
   "source": [
    "i=j=0"
   ]
  },
  {
   "cell_type": "code",
   "execution_count": null,
   "metadata": {},
   "outputs": [],
   "source": [
    "\n",
    "i=i+j\n",
    "j=0\n",
    "for i in range(i,len(liens_parfumeurs)):\n",
    "\n",
    "    driver = webdriver.Chrome()\n",
    "\n",
    "    driver.get(liens_parfumeurs[i])\n",
    "    time.sleep(1)\n",
    "    \n",
    "    while True:\n",
    "        try:\n",
    "            nom_parfumeur = driver.find_element(By.XPATH, '//div[contains(@class, \"text-center\")]//h1').text\n",
    "            parfum_links = driver.find_elements(By.XPATH, '//div[@class=\"flex-child-auto\"]//a')\n",
    "            liens = [link.get_attribute('href') for link in parfum_links]\n",
    "    \n",
    "            data = pd.DataFrame(columns=columns)\n",
    "            data.parfumeurs = [nom_parfumeur] * len(parfum_links)\n",
    "            data.liens = liens\n",
    "    \n",
    "    \n",
    "            df = pd.concat([df, data], axis=0)\n",
    "            df.to_csv(\"data_liens.csv\", index=False)\n",
    "            driver.quit()\n",
    "            break\n",
    "            j+=1\n",
    "        \n",
    "        except ElementClickInterceptedException:\n",
    "            time.sleep(2)"
   ]
  }
 ],
 "metadata": {
  "kernelspec": {
   "display_name": "env",
   "language": "python",
   "name": "python3"
  },
  "language_info": {
   "codemirror_mode": {
    "name": "ipython",
    "version": 3
   },
   "file_extension": ".py",
   "mimetype": "text/x-python",
   "name": "python",
   "nbconvert_exporter": "python",
   "pygments_lexer": "ipython3",
   "version": "3.10.12"
  }
 },
 "nbformat": 4,
 "nbformat_minor": 2
}
